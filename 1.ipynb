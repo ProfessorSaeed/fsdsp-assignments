{
  "nbformat": 4,
  "nbformat_minor": 0,
  "metadata": {
    "colab": {
      "provenance": []
    },
    "kernelspec": {
      "name": "python3",
      "display_name": "Python 3"
    },
    "language_info": {
      "name": "python"
    }
  },
  "cells": [
    {
      "cell_type": "markdown",
      "source": [
        "### Ques 1. Write a program to reverse a string."
      ],
      "metadata": {
        "id": "GOrrH8sIs3x_"
      }
    },
    {
      "cell_type": "code",
      "execution_count": 1,
      "metadata": {
        "colab": {
          "base_uri": "https://localhost:8080/"
        },
        "id": "2lDnLJ6es28S",
        "outputId": "ed5cbd8c-8d2f-480b-f81d-140712b08987"
      },
      "outputs": [
        {
          "output_type": "stream",
          "name": "stdout",
          "text": [
            "Please enter a string: first method\n",
            "The reversed string is: dohtem tsrif\n"
          ]
        }
      ],
      "source": [
        "# Method 1 - String Reversal with Slicing\n",
        "def reverse_string(s):\n",
        "  return s[::-1]\n",
        "\n",
        "# Example Usage\n",
        "s = input(\"Please enter a string: \")\n",
        "print(\"The reversed string is:\",reverse_string(s))"
      ]
    },
    {
      "cell_type": "code",
      "source": [
        "# Method 2 - String Reversal with Character-wise Iterative Concatenation\n",
        "# Step 1: Create a new_string which is initially empty\n",
        "# Step 2: Iterate through each character of the given string using a for loop\n",
        "# Step 3: Inside the loop, keep adding each character at the front of the existing new_string.\n",
        "# This process effectively reverses the order of characters when the loop is completed.\n",
        "\n",
        "def reverse_string(s):\n",
        "  new_string = ''  # Step 1: Initialize an empty string to store the reversed result\n",
        "  for char in s:   # Step 2: Iterate through each character in the original string\n",
        "    new_string = char + new_string  # Step 3: Prepend each character to the existing reversed string\n",
        "  return new_string  # The final reversed string is returned\n",
        "\n",
        "# Example Usage\n",
        "s = input(\"Please enter a string: \")\n",
        "print(\"The reversed string is:\",reverse_string(s))"
      ],
      "metadata": {
        "colab": {
          "base_uri": "https://localhost:8080/"
        },
        "id": "TawXbTtutCuH",
        "outputId": "a0ba51ec-1136-41ce-9be1-bd522bead61d"
      },
      "execution_count": 2,
      "outputs": [
        {
          "output_type": "stream",
          "name": "stdout",
          "text": [
            "Please enter a string: second method\n",
            "The reversed string is: dohtem dnoces\n"
          ]
        }
      ]
    },
    {
      "cell_type": "code",
      "source": [
        "# Method 3 - String Reversal with One-Pointer In-Place Swapping Technique\n",
        "\n",
        "# Step 1: Convert the given string into a list\n",
        "# Due to the immutability of strings in Python, the string is converted to a list to facilitate in-place or direct modifications.\n",
        "\n",
        "# Step 2: Reverse the List In-Place\n",
        "# The approach employs a single pointer i for an in-place reversal of the list.\n",
        "# The i pointer starts from index 0 and stops before reaching half the length of the string.\n",
        "# The line \"for i in range (n//2)\" ensures that the pointer stops on reaching the first half of the string (even length case) or just before the middle element (odd length case).\n",
        "# The swapping is achieved by exchanging characters between the i-th position from the start and its corresponding position from the end, which is (n-1-i)th position.\n",
        "# After each swap, we move the pointer one place forward.\n",
        "# This loop efficiently swaps elements from both ends of the list towards the middle, resulting in an in-place reversal of the list.\n",
        "\n",
        "# Step 3: Convert Modified List to String\n",
        "# Finally, the modified/reversed list is transformed back into a string using the \"\".join() method, producing the final reversed string.\n",
        "\n",
        "def reverse_string(s):\n",
        "  # Step 1: Convert the given string into a list\n",
        "  l = list(s)\n",
        "  # Step 2: Reverse the List In-Place\n",
        "  n = len(l)  # Get the length of the list\n",
        "  i = 0       # Initialize the pointer to the beginning of the list\n",
        "  for i in range (n//2):  # Iterate until the pointer reaches the middle of the list\n",
        "    l[i], l[n-1-i] = l[n-1-i], l[i]  # Swap elements symmetrically around the midpoint\n",
        "    i += 1                           # Move the pointer towards the center of the list\n",
        "  return \"\".join(l)  # Step 3\n",
        "\n",
        "# Example Usage\n",
        "s = input(\"Please enter a string: \")\n",
        "print(\"The reversed string is:\",reverse_string(s))"
      ],
      "metadata": {
        "colab": {
          "base_uri": "https://localhost:8080/"
        },
        "id": "-e3_UQr5tGX4",
        "outputId": "292f037e-ece3-4bf7-9ea0-58acdc4043fd"
      },
      "execution_count": 3,
      "outputs": [
        {
          "output_type": "stream",
          "name": "stdout",
          "text": [
            "Please enter a string: third method\n",
            "The reversed string is: dohtem driht\n"
          ]
        }
      ]
    }
  ]
}