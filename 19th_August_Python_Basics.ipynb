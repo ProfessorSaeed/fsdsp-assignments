{
 "cells": [
  {
   "cell_type": "markdown",
   "id": "2d9a657a",
   "metadata": {},
   "source": [
    "# Assignment 1 - Python Basics"
   ]
  },
  {
   "cell_type": "markdown",
   "id": "40d24341",
   "metadata": {},
   "source": [
    "## Topic: Variable Based Questions"
   ]
  },
  {
   "cell_type": "markdown",
   "id": "4bbad855",
   "metadata": {},
   "source": [
    "### Ques 1. Declare two variables, 'x' and 'y', and assign them integer values. Swap the values of these variables without using any temporary variable."
   ]
  },
  {
   "cell_type": "code",
   "execution_count": 3,
   "id": "efd12783",
   "metadata": {},
   "outputs": [
    {
     "name": "stdout",
     "output_type": "stream",
     "text": [
      "Before swap:\n",
      "Value of variable x is: 22\n",
      "Value of variable y is: 33\n",
      "After swap:\n",
      "Value of variable x is: 33\n",
      "Value of variable y is: 22\n"
     ]
    }
   ],
   "source": [
    "# first we declare the variables and assign them any integer values\n",
    "\n",
    "x = 22\n",
    "y = 33\n",
    "\n",
    "# then we print the values of x and y variables before swapping\n",
    "\n",
    "print(\"Before swap:\")\n",
    "print(\"Value of variable x is:\",x)\n",
    "print(\"Value of variable y is:\",y)\n",
    "\n",
    "# next we swap the values of these variables simultaneously in a single line\n",
    "\n",
    "x,y = y,x\n",
    "\n",
    "# at last we print the values of x and y variables after swapping\n",
    "\n",
    "print(\"After swap:\")\n",
    "print(\"Value of variable x is:\",x)\n",
    "print(\"Value of variable y is:\",y)"
   ]
  },
  {
   "cell_type": "markdown",
   "id": "2c0a98ad",
   "metadata": {},
   "source": [
    "* In the above code, we have to make sure that we swap both the variables simultaneously in a single line.\n",
    "* If we did one after the other in two different lines then the output would not be as desired.\n",
    "* For example, suppose we did it like this\n",
    "* x=y\n",
    "* y=x\n",
    "* Doing it like this, when we print the values of variables x and y, we'll get both the values as 33.\n",
    "* This is because when x=y is written the value of variable y (i.e. 33) gets assigned to variable x.\n",
    "* And in the next line when y=x is written the value of variable x (which is now 33) is assigned to variable y."
   ]
  },
  {
   "cell_type": "markdown",
   "id": "55b67d5d",
   "metadata": {},
   "source": [
    "### Ques 2. Create a program that calculates the area of a rectangle. Take the length and width as inputs from the user and store them in variables. Calculate and display the area."
   ]
  },
  {
   "cell_type": "code",
   "execution_count": 5,
   "id": "5c540377",
   "metadata": {},
   "outputs": [
    {
     "name": "stdout",
     "output_type": "stream",
     "text": [
      "Enter length and width of a rectangle and this program will give it's area!\n",
      "Length in cm: 22.70\n",
      "Width in cm: 15.65\n",
      "Area of the rectangle is 355.255 sq.cm\n"
     ]
    }
   ],
   "source": [
    "# first we give a short introduction\n",
    "\n",
    "print(\"Enter length and width of a rectangle and this program will give it's area!\")\n",
    "\n",
    "# then we take inputs of length and width from the user and store them in 2 variables namely 'length' and 'width'\n",
    "\n",
    "length = float(input(\"Length in cm: \"))\n",
    "width = float(input(\"Width in cm: \"))\n",
    "\n",
    "# next we calculate the area and display the result\n",
    "\n",
    "print(f\"Area of the rectangle is {length*width} sq.cm\")"
   ]
  },
  {
   "cell_type": "markdown",
   "id": "a438f83d",
   "metadata": {},
   "source": [
    "* In the above code, we must typecast the input for both length and width variables.\n",
    "* This is because the input() function, which is used to take input from the user, takes a string input by default.\n",
    "* As the length and width of a rectangle can be any decimal numbers, we must use float() along with the input(). We could also use int() instead of float() but then it will only take integer values as input and we do not want to restrict the user from giving any decimal number as input.\n",
    "* Finally, in the print() statement we have used the f-string formatting.\n",
    "* Observe that the expression length*width is embedded inside the string using curly braces.\n",
    "* This f-string formatting provides a concise and convenient way to embed expressions inside string literals."
   ]
  },
  {
   "cell_type": "markdown",
   "id": "70a305f0",
   "metadata": {},
   "source": [
    "### Ques 3. Write a Python program that converts temperatures from Celsius to Fahrenheit. Take the temperature in Celsius as input, store it in a variable, convert it to Fahrenheit, and display the result."
   ]
  },
  {
   "cell_type": "code",
   "execution_count": 7,
   "id": "f88dd6ab",
   "metadata": {},
   "outputs": [
    {
     "name": "stdout",
     "output_type": "stream",
     "text": [
      "Please input any temperature in Celsius and this program will give you equivalent Fahrenheit temperature!!!\n",
      "What's the temperature in Celsius? -- 36.5\n",
      "36.5 Celsius is equivalent to 97.7 Fahrenheit\n"
     ]
    }
   ],
   "source": [
    "# first we give a short introduction\n",
    "\n",
    "print(\"Please input any temperature in Celsius and this program will give you equivalent Fahrenheit temperature!!!\")\n",
    "\n",
    "# then we take input of Celsius temperature from the user and store in a varible named \"t\"\n",
    "\n",
    "t = float(input(\"What's the temperature in Celsius? -- \"))\n",
    "\n",
    "# next we convert Celsius temperature into equivalent Fahrenheit temperature and print the result\n",
    "\n",
    "f = (t*1.8)+32\n",
    "\n",
    "print(\"{} Celsius is equivalent to {} Fahrenheit\".format(t,f))"
   ]
  },
  {
   "cell_type": "markdown",
   "id": "52b7d3e6",
   "metadata": {},
   "source": [
    "* In the above code, input must be typecasted to a float type for the same reason as in question 2 that the input can be any decimal number.\n",
    "* Also, this time in the print() statement we have used the str.format() method of strings.\n",
    "* The curly braces inside the string literals are called as placeholders which will get replaced in order by values given with format() method.\n",
    "* First pair of curly braces are replaced with the first value that is t.\n",
    "* Second pair of curly braces are replaced with the second value that is f.\n",
    "* Using this str.format() method we can handle complex string formatting more efficiently."
   ]
  },
  {
   "cell_type": "markdown",
   "id": "c5420e21",
   "metadata": {},
   "source": [
    "# Topic: String Based Questions"
   ]
  },
  {
   "cell_type": "markdown",
   "id": "90d21b8d",
   "metadata": {},
   "source": [
    "### Ques 1. Write a Python program that takes a string as input and prints the length of the string."
   ]
  },
  {
   "cell_type": "code",
   "execution_count": 9,
   "id": "28f8c5d1",
   "metadata": {},
   "outputs": [
    {
     "name": "stdout",
     "output_type": "stream",
     "text": [
      "Let's find the length (i.e. number of characters including spaces) of a string you input!\n",
      "Please type any string : My name is Saeed Patel\n",
      "The length of this string is : 22\n"
     ]
    }
   ],
   "source": [
    "# first we write a message for the user of the program and take a string as input and store it as a variable 'user_string'\n",
    "\n",
    "print(\"Let's find the length (i.e. number of characters including spaces) of a string you input!\")\n",
    "\n",
    "user_string = input(\"Please type any string : \")\n",
    "\n",
    "# then we calculate the lenght using the function len()\n",
    "\n",
    "l = len(user_string)\n",
    "\n",
    "# finally we display the result using print() function\n",
    "\n",
    "print(\"The length of this string is : {}\".format(l))"
   ]
  },
  {
   "cell_type": "markdown",
   "id": "0a572aa0",
   "metadata": {},
   "source": [
    "* In the above code, len() is a built-in function or method which returns the number characters inside the string.\n",
    "* Note that spaces are also counted as a character.\n",
    "* For print() statement, again as like the previous question we have used format() method. Though, we could have also written it simply like this and the same result would be displayed in the output:\n",
    "* print(\"The length of this string is : \",l)"
   ]
  },
  {
   "cell_type": "markdown",
   "id": "4a0e22b2",
   "metadata": {},
   "source": [
    "### Ques 2. Create a program that takes a sentence from the user and counts the number of vowels (a,e,i,o,u) in the string."
   ]
  },
  {
   "cell_type": "code",
   "execution_count": 5,
   "id": "19a31f79",
   "metadata": {},
   "outputs": [
    {
     "name": "stdout",
     "output_type": "stream",
     "text": [
      "Let's count the number of vowels in a sentence you type!\n",
      "Please type any sentence : I love my India\n",
      "The number of vowels in the sentence are -  6\n"
     ]
    }
   ],
   "source": [
    "# first we give a short introduction of the program & take an input sentence from the user to store in varaible 'user_sentence'\n",
    "\n",
    "print(\"Let's count the number of vowels in a sentence you type!\")\n",
    "\n",
    "user_sentence = input(\"Please type any sentence : \")\n",
    "\n",
    "# to start the count of vowels we declare a variable 'vowel_count' and set it's value to zero\n",
    "\n",
    "vowel_count = 0\n",
    "\n",
    "# next we iterate through the string/sentence that was given by the user and to do so we make use of the for-loop\n",
    "# inside this for-loop we use the if condition to increase the value of variable vowel_count by 1 whenever the condition is met\n",
    "\n",
    "for i in user_sentence:\n",
    "    if i in \"AEIOUaeiou\":\n",
    "        vowel_count += 1\n",
    "        \n",
    "# finally we display the result of total vowels in the sentence\n",
    "\n",
    "print(\"The number of vowels in the sentence are - \",vowel_count)"
   ]
  },
  {
   "cell_type": "markdown",
   "id": "6e5c0f81",
   "metadata": {},
   "source": [
    "* In the above code, we've used 'for' loop for iterating over the string 'user_sentence'.\n",
    "* 'for' loop is used for iterating over a sequence (that is either a list, a tuple, a dictionary, a set, or a string).\n",
    "* Note that we use indentation to make sure that we're inside the 'for' loop.\n",
    "* Also, 'if' statement is used in which we define a condition and when this conditon is True the indented statements below the 'if' statement are executed.\n",
    "* Here, the only indented statement below the 'if' statement is to increase the value of vowel_count by 1 every time the stated condtion is True.\n",
    "* Note that the 'in' operator plays an important role in the condtion of the 'if' statement.\n",
    "* The 'in' operator determines whether a given value is a constituent element of a sequence such as a string, list, or tuple. When used in a condition, the statement returns a Boolean result of True or False. The statement returns True if the specified value is found within the sequence."
   ]
  },
  {
   "cell_type": "markdown",
   "id": "dc450064",
   "metadata": {},
   "source": [
    "### Ques 3. Given a string, reverse the order of characters using string slicing and print the reversed string."
   ]
  },
  {
   "cell_type": "code",
   "execution_count": 2,
   "id": "9a2971d3",
   "metadata": {},
   "outputs": [
    {
     "name": "stdout",
     "output_type": "stream",
     "text": [
      "Please type a string and you will get to see it in reversed order!\n",
      "oiurfhybk\n",
      "Here's the reversed string!\n",
      "kbyhfruio\n"
     ]
    }
   ],
   "source": [
    "# first we give a short introduction\n",
    "\n",
    "print(\"Please type a string and you will get to see it in reversed order!\")\n",
    "\n",
    "# then we take an input sentence from the user\n",
    "\n",
    "input_string = input()\n",
    "\n",
    "# next we reverse the string using string slicing and store that reversed string in a variable\n",
    "\n",
    "reversed_string = input_string[::-1]\n",
    "\n",
    "# finally we display the reversed string along with appropriate message\n",
    "\n",
    "print(\"Here's the reversed string!\")\n",
    "print(reversed_string)"
   ]
  },
  {
   "cell_type": "markdown",
   "id": "0b1b9f60",
   "metadata": {},
   "source": [
    "* In the above code, we've used the string slicing method.\n",
    "* To understand string slicing we must the know about the indexing in a string.\n",
    "* In a string, when indexing statrs from the left-side it is called as postive indexing. In this case, the indexing is\n",
    "* 0 1 2 3 4 5 .....\n",
    "* On the other hand, when indexing starts from the right-side it is called as negative indexing. In this case, the indexing is\n",
    "* ..... -4 -3 -2- -1\n",
    "* The syntax for slicing a string is\n",
    "* str[start:end:step]\n",
    "* Here, we're slicing the 'input_string' and saving the result in a new variable namely 'reversed_string'.\n",
    "* As start is not specified so by default start index is considered as the beginning of the string.\n",
    "* Also end is not specified so by default end index is considered as the end of the string.\n",
    "* Lastly, step is specified as -1 and this means that the output will be displayed by moving one step backward through the specified slice of the string. \n",
    "* As a result [::-1] can be used to effectively reverse the string."
   ]
  },
  {
   "cell_type": "markdown",
   "id": "3a95f645",
   "metadata": {},
   "source": [
    "### Ques 4. Write a program that takes a string as input and checks if it is a palindrome (reads the same forwards and backwards)."
   ]
  },
  {
   "cell_type": "code",
   "execution_count": 14,
   "id": "b4910f99",
   "metadata": {},
   "outputs": [
    {
     "name": "stdout",
     "output_type": "stream",
     "text": [
      "Please type a string and the program will check if it is a palindrome!\n",
      "Do Geese see God\n",
      "Yes it is a palindrome!\n"
     ]
    }
   ],
   "source": [
    "# first we give a short introduction\n",
    "\n",
    "print(\"Please type a string and the program will check if it is a palindrome!\")\n",
    "\n",
    "# then we take an input string from the user and store it in the variable 'typed_string'\n",
    "\n",
    "typed_string = input()\n",
    "\n",
    "# next we remove spaces from the 'typed_string', convert that to lowercase and store the result in variable named 'given_string'\n",
    "\n",
    "given_string = typed_string.replace(\" \",\"\").lower()\n",
    "\n",
    "# now using slicing we reverse the 'given_string' and store that reversed string in variable named 'reversed_string'\n",
    "\n",
    "reversed_string = given_string[::-1]\n",
    "\n",
    "# to check palindrome or not we use the if-else statement\n",
    "\n",
    "if given_string == reversed_string :\n",
    "    print(\"Yes it is a palindrome!\")\n",
    "else:\n",
    "    print(\"No your string isn't a palindrome.\")"
   ]
  },
  {
   "cell_type": "markdown",
   "id": "16ccd83e",
   "metadata": {},
   "source": [
    "* In the above code, 'if-else' statement is used.\n",
    "* The syntax for if-else is as below:\n",
    "* if condition:\n",
    "*      block of code if conditon is True\n",
    "* else:\n",
    "*      block of code if condition is False\n",
    "* Note that in the condition of 'if' statement we make use of the == sign which is a 'Comparision Operator' that returns True if both the operands (left-side value and right-side value) are equal to each other.\n",
    "* Also, initially after taking the input from the user, we modify it using replace() and lower() functions. This step is necessary to ensure that the comparison is case-insensitive and doesn't consider spaces."
   ]
  },
  {
   "cell_type": "markdown",
   "id": "db6fd814",
   "metadata": {},
   "source": [
    "### Ques 5. Cretae a program that takes a string as input and removes all the spaces from it. Print the modified string without spaces."
   ]
  },
  {
   "cell_type": "markdown",
   "id": "af768bcf",
   "metadata": {},
   "source": [
    "#### Method 1 - using replace() function"
   ]
  },
  {
   "cell_type": "code",
   "execution_count": 12,
   "id": "4dfef958",
   "metadata": {},
   "outputs": [
    {
     "name": "stdout",
     "output_type": "stream",
     "text": [
      "Give a string and this program will remove all the whitespaces from it!\n",
      "h e LL o\n",
      "Below is the string with all the whitespaces removed:\t heLLo\n"
     ]
    }
   ],
   "source": [
    "# first we give a short introduction\n",
    "\n",
    "print(\"Give a string and this program will remove all the whitespaces from it!\")\n",
    "\n",
    "# then we take an input string from the user and store it in the variable 'original_str'\n",
    "\n",
    "original_str = input()\n",
    "\n",
    "# next we use replace() function to replace all the \" \" substrings i.e spaces with \"\" substrings i.e empty substrings\n",
    "# the variable 'new_str' stores the modified string \n",
    "\n",
    "new_str = original_str.replace(\" \",\"\")\n",
    "\n",
    "# finally we print the modified string without spaces\n",
    "\n",
    "print(\"Below is the string with all the whitespaces removed:\\t\",new_str)"
   ]
  },
  {
   "cell_type": "markdown",
   "id": "4cdca3d8",
   "metadata": {},
   "source": [
    "* In the above code, the replace() function is used whose syntax is as below:\n",
    "* string.replace(oldvalue, newvalue, count)\n",
    "* It is mandatory to specify the oldvalue that is the substring which is to be searched for and replaced.\n",
    "* It is also mandatory to specify the newvalue that is the substring which is going to replace the oldvalue.\n",
    "* However, it is not mandatory to specify the count. If nothing is specified then all occurrences of the oldvalue will be replaced, and if a count is specified then that many occurrences of the oldvalue will be replaced by the newvalue.\n",
    "* Last one thing to note in the above code is the \\t used in the last print statement.\n",
    "* In Python strings, the backslash \"\\\" is a special character, also called the \"escape\" character. It is used in representing certain whitespace characters.\n",
    "* \"\\t\" means add or insert a tab in between."
   ]
  },
  {
   "cell_type": "markdown",
   "id": "81aa02d6",
   "metadata": {},
   "source": [
    "#### Method 2 - using split() and join() functions"
   ]
  },
  {
   "cell_type": "code",
   "execution_count": 9,
   "id": "bb1d688c",
   "metadata": {},
   "outputs": [
    {
     "name": "stdout",
     "output_type": "stream",
     "text": [
      "Give a string and this program will remove all the whitespaces from it!\n",
      "Split & Join\n",
      "Below is the string with all the whitespaces removed: \n",
      " Split&Join\n"
     ]
    }
   ],
   "source": [
    "# first we give a short introduction\n",
    "\n",
    "print(\"Give a string and this program will remove all the whitespaces from it!\")\n",
    "\n",
    "# then we take an input string from the user and store it in the variable 'original_str'\n",
    "\n",
    "original_str = input()\n",
    "\n",
    "# next we use split() and join() functions in concatenation to remove all the spaces from original string\n",
    "# the variable 'new_str' stores the modified string \n",
    "\n",
    "new_str = \"\".join(original_str.split(\" \"))\n",
    "\n",
    "# finally we print the modified string without spaces\n",
    "\n",
    "print(\"Below is the string with all the whitespaces removed: \\n\",new_str)"
   ]
  },
  {
   "cell_type": "markdown",
   "id": "3ed36cec",
   "metadata": {},
   "source": [
    "* In the above code, split() and join() functions are used.\n",
    "* The split() function splits a string into a list.\n",
    "* The syntax for split() function is:\n",
    "* string.split(separator, maxsplit)\n",
    "* It is not mandatory to specify the separator. By default separator is any whitespace, however you can specify the separator.\n",
    "* It is also not mandatory to specify the maxsplit. By default at all the occurrences of the separator a split is created, however if specified then it works like this: for example a maxsplit value of 2 will return a list with 3 elements.\n",
    "* Next function that we've to undertand is the join() function.\n",
    "* The syntax for join() function is:\n",
    "* string.join(iterable)\n",
    "* join() function takes all items in an iterable and joins them into one string.\n",
    "* It is mandatory here to give an iterable as a paramter inside the join function. Also, a string must be specified which will be the separator in between the elements of the iterable joined into a single string as output.\n",
    "* Last one thing to note in the above code is the \\n used in the last print statement. When inserted in a string all the characters after \\n are added to a new line."
   ]
  },
  {
   "cell_type": "markdown",
   "id": "ad373a91",
   "metadata": {},
   "source": [
    "#### Method 3 - using for-loop and if-condition"
   ]
  },
  {
   "cell_type": "code",
   "execution_count": 13,
   "id": "31e33502",
   "metadata": {},
   "outputs": [
    {
     "name": "stdout",
     "output_type": "stream",
     "text": [
      "Give a string and this program will remove all the whitespaces from it!\n",
      "F i nal -     pro gram!\n",
      "Below is the string with all the whitespaces removed:\n",
      "Final-program!\n"
     ]
    }
   ],
   "source": [
    "# first we give a short introduction\n",
    "\n",
    "print(\"Give a string and this program will remove all the whitespaces from it!\")\n",
    "\n",
    "# then we take an input string from the user and store it in the variable 'original_str'\n",
    "\n",
    "original_str = input()\n",
    "\n",
    "# to get started we declare a variable 'new_str' and store an empty string in it\n",
    "\n",
    "new_str = \"\"\n",
    "\n",
    "# then using for-loop we iterate through the string that was given by the user\n",
    "# if condtion is used inside the loop to add those characters of original string which are not spaces to the new string\n",
    "\n",
    "for i in original_str:\n",
    "    if i != \" \":\n",
    "        new_str += i\n",
    "\n",
    "# finally we print the modified string without spaces\n",
    "\n",
    "print(\"Below is the string with all the whitespaces removed:\")\n",
    "print(new_str)"
   ]
  },
  {
   "cell_type": "markdown",
   "id": "e98ce19b",
   "metadata": {},
   "source": [
    "* In the above code, all the things that were used have been explained in the previous questions except for the != sign which is a 'Comparision Operator' named 'Not Equal To'. It returns True if operands on either side are not equal to each other, and returns False if they are equal."
   ]
  },
  {
   "cell_type": "markdown",
   "id": "096c2c82",
   "metadata": {},
   "source": [
    "# End of Assignment"
   ]
  }
 ],
 "metadata": {
  "kernelspec": {
   "display_name": "Python 3 (ipykernel)",
   "language": "python",
   "name": "python3"
  },
  "language_info": {
   "codemirror_mode": {
    "name": "ipython",
    "version": 3
   },
   "file_extension": ".py",
   "mimetype": "text/x-python",
   "name": "python",
   "nbconvert_exporter": "python",
   "pygments_lexer": "ipython3",
   "version": "3.10.9"
  }
 },
 "nbformat": 4,
 "nbformat_minor": 5
}
