{
 "cells": [
  {
   "cell_type": "markdown",
   "id": "c7ea3480",
   "metadata": {},
   "source": [
    "# --------------------------- DSA Assignment 1 - Topic: Arrays --------------------------------"
   ]
  },
  {
   "cell_type": "markdown",
   "id": "14e6703e",
   "metadata": {},
   "source": [
    "### Ques 1: Given an array, check if it contains any duplicates or not. <br><br> `arr = [1, 2, 4, 2, 5, 9]` <br><br> `Output = True`"
   ]
  },
  {
   "cell_type": "markdown",
   "id": "ad2831b4",
   "metadata": {},
   "source": [
    "#### Code:"
   ]
  },
  {
   "cell_type": "code",
   "execution_count": 3,
   "id": "d266fc59",
   "metadata": {},
   "outputs": [
    {
     "data": {
      "text/plain": [
       "True"
      ]
     },
     "execution_count": 3,
     "metadata": {},
     "output_type": "execute_result"
    }
   ],
   "source": [
    "# Function definition \n",
    "\n",
    "def duplicatesCheck(arr):\n",
    "    # Use a set to store unique elements\n",
    "    uniqueElements = set()\n",
    "    \n",
    "    # Iterate through the array\n",
    "    for i in arr:\n",
    "        \n",
    "        # Condition for checking duplicates\n",
    "        if i in uniqueElements:\n",
    "            return True\n",
    "        else:\n",
    "            uniqueElements.add(i)\n",
    "            \n",
    "    # If the loop completes without returning, there are no duplicates\n",
    "    return False\n",
    "\n",
    "# Driver Code\n",
    "arr_1 = [1,2,4,2,5,9]\n",
    "\n",
    "# Function calling\n",
    "duplicatesCheck(arr_1)"
   ]
  },
  {
   "cell_type": "markdown",
   "id": "d0a71295",
   "metadata": {},
   "source": [
    "### Explanation:\n",
    "* In this example, `duplicatesCheck` function takes an array as input and returns `True` if there are duplicates and `False` otherwise. <br> The set `uniqueElements` is used to keep track of unique elements encountered during the iteration. <br> The logic is straightforward: if an element is already in the set, then it's a duplicate, otherwise, add it to the set.\n",
    "\n",
    "* __Time Complexity:__ <br> The time complexity of this program is O(n), where n is the length of the input array. <br> The loop iterates over each element in the array once, and the set operations (`in` and `add`) are generally considered to have an average time complexity of O(1). Therefore, the overall time complexity is linear with respect to the size of the input array.\n",
    "\n",
    "* __Space Complexity:__ <br> The space complexity is determined by the additional memory used by the algorithm. In this case, the primary data structure used is a set (`uniqueElements`) to keep track of unique elements encountered in the array. <br> __Worst Case (Maximum Unique Elements):__ <br> If all elements in the array are unique, the set `uniqueElements` will store all of them. In this case, the space complexity is O(n), where n is the length of the input array. <br> __Best Case (No Unique Elements):__ <br> If all elements in the array are the same, the set will only store one unique element. In this case, the space complexity is O(1), as the size of the set is constant throughout the iteration. <br> __Average Case (Some Unique Elements):__ <br> In most practical scenarios, the set will store a subset of the array's elements. The space complexity is then determined by the number of unique elements in the array. <br> In summary, the space complexity is O(min(n, m)), where n is the length of the array, and m is the number of unique elements. The actual space used depends on the uniqueness of the elements in the array.\n",
    "\n",
    "# ---------------------------------------------------------------------------------------------------------------"
   ]
  },
  {
   "cell_type": "markdown",
   "id": "1045019d",
   "metadata": {},
   "source": [
    "### Ques 2: Given an array and an integer k, rotate the array to the right by k steps. <br><br> `arr = [1, 2, 3, 4, 5, 6, 7]`  `k = 3` <br><br> `Output = [5, 6, 7, 1, 2, 3, 4]`"
   ]
  },
  {
   "cell_type": "markdown",
   "id": "f8473d7b",
   "metadata": {},
   "source": [
    "#### Code:"
   ]
  },
  {
   "cell_type": "code",
   "execution_count": 4,
   "id": "c77a8870",
   "metadata": {},
   "outputs": [
    {
     "name": "stdout",
     "output_type": "stream",
     "text": [
      "[5, 6, 7, 1, 2, 3, 4]\n"
     ]
    }
   ],
   "source": [
    "# Function Definition\n",
    "def krotation(arr,k):\n",
    "    n=len(arr)\n",
    "    \n",
    "    # Calculate the effective rotation index\n",
    "    k=k%n\n",
    "        \n",
    "    # Perform the rotation using array slicing\n",
    "    return arr[-k:]+arr[:-k]\n",
    "\n",
    "# Driver Code\n",
    "arr_2 = [1,2,3,4,5,6,7]\n",
    "k = 3\n",
    "\n",
    "# Function calling & output\n",
    "result = krotation(arr_2,k)\n",
    "print(result)"
   ]
  },
  {
   "cell_type": "markdown",
   "id": "fcfaecff",
   "metadata": {},
   "source": [
    "### Explanation:\n",
    "* This program defines a function `krotation` that takes an array and an integer (_k_) as input and returns the array rotated to the right by _k_ steps.\n",
    "\n",
    "* The modulo (_%_) operation is used to handle cases where k is larger than the length of the array. <br> In case when k is less than or equal to length of the array, given k can be taken as the rotation index (without the need for any modulo operation). <br> However, in case when k is greater than length of the array, the effective rotation index would be same as k modulo n. <br> So, considering this case, the operation _k%n_ is done.\n",
    "\n",
    "* Now, let us understand the rotation using array slicing. <br> Here, k is the number of steps to rotate the given array to the right. <br> `arr[-k:]`: This is array slicing that extracts the last k elements of the array. The index `-k:` refers to the _k-th_ element from the end of the array to the last element. So, `arr[-k:]` gives us the last k elements. <br> `arr[:-k]`: This is array slicing that extracts all elements of the array except the last k elements. The index `:-k` refers to all elements from the beginning of the array up to the _k-th_ element from the end. So, `arr[:-k]` gives us all elements except the last k elements. <br> Finally, the `+` operator concatenates the two sliced arrays, effectively combining the last k elements with all elements except the last k. <br> The result is a new array that represents the original array rotated to the right by k steps. <br> In this example, `arr = [1, 2, 3, 4, 5, 6, 7]` and `k = 3`, so: <br> `arr[-k:]` gives [5, 6, 7] (last 3 elements) <br> `arr[:-k]` gives [1, 2, 3, 4] (all elements except the last 3) <br> Concatenating them gives the rotated array [5, 6, 7, 1, 2, 3, 4].\n",
    "\n",
    "* __Time Complexity:__ <br> The time complexity of the code is O(n), where n is the length of the input array. <br> The array slicing operation, which creates a new array, takes O(n) time as it involves copying elements from the original array. Since array slicing is the primary operation that depends on the size of the input array, the overall time complexity is linear with respect to the size of the array.\n",
    "\n",
    "* __Space Complexity:__ <br> The space complexity of the code is also O(n), where n is the length of the input array. <br> The space complexity is dominated by the additional space required to store the rotated array, which is created using array slicing. The space required is proportional to the size of the input array. In terms of big O notation, we express this as O(n).\n",
    "\n",
    "# ---------------------------------------------------------------------------------------------------------------"
   ]
  },
  {
   "cell_type": "markdown",
   "id": "a324a99d",
   "metadata": {},
   "source": [
    "### Ques 3: Reverse the given array in-place, means without using any extra data structure. <br><br> `arr = [2, 4, 5, 7, 9, 12]` <br><br> `Output = [12, 9, 7, 5, 4, 2]`"
   ]
  },
  {
   "cell_type": "markdown",
   "id": "a8d2acd3",
   "metadata": {},
   "source": [
    "#### Code: "
   ]
  },
  {
   "cell_type": "code",
   "execution_count": 5,
   "id": "e14366b2",
   "metadata": {},
   "outputs": [
    {
     "name": "stdout",
     "output_type": "stream",
     "text": [
      "[12, 9, 7, 5, 4, 2]\n"
     ]
    }
   ],
   "source": [
    "# Function Definition\n",
    "def reverseArray_inplace(arr):\n",
    "    n = len(arr)\n",
    "    \n",
    "    # Initialize two-pointers at the ends\n",
    "    left_pointer = 0\n",
    "    right_pointer = n-1\n",
    "    \n",
    "    # Condition for the loop is stated\n",
    "    while left_pointer < right_pointer:\n",
    "        \n",
    "        # Inside the loop, swap elements at the pointers\n",
    "        arr[left_pointer],arr[right_pointer] = arr[right_pointer],arr[left_pointer]\n",
    "        \n",
    "        # Inside the loop, keep incrementing left_pointer and decrementing right_pointer to move pointers towards the center\n",
    "        left_pointer += 1\n",
    "        right_pointer -= 1\n",
    "        \n",
    "    return arr\n",
    "\n",
    "# Driver Code\n",
    "arr_3 = [2, 4, 5, 7, 9, 12]\n",
    "\n",
    "# Function calling & output\n",
    "result = reverseArray_inplace(arr_3)\n",
    "print(result)"
   ]
  },
  {
   "cell_type": "markdown",
   "id": "c102d1fc",
   "metadata": {},
   "source": [
    "### Explanation:\n",
    "* In this program, a function `reverseArray_inplace` is defined that takes an array as input and reverses it in-place, which is done by swapping elements from the beginning and the end of the array.\n",
    "\n",
    "* The logic for reversing an array in-place is implemented using a two-pointer approach. Here's a breakdown of the logic: <br> __Initialization:__ `left_pointer` is initialized to the beginning of the array (index 0). <br> `right_pointer` is initialized to the end of the array (index n-1). <br> __Swap Elements:__ <br> A while loop runs as long as `left_pointer` is less than `right_pointer`. <br> Inside the loop, elements at `left_pointer` and `right_pointer` are swapped. This effectively reverses the order of elements at these positions. <br> __Move Pointers:__ After swapping, both `left_pointer` and `right_pointer` are moved towards the center of the array. <br> `left_pointer` is incremented, and `right_pointer` is decremented. <br> __Continue until Midpoint:__ These steps of swapping and moving pointers are repeated until `left_pointer` is no longer less than `right_pointer`. <br> The loop stops when the pointers meet or cross, ensuring that every element has been swapped and the array is reversed. <br> That is, the while loop continues swapping elements from the start and end of the array until the `left_pointer` becomes greater than or equal to the `right_pointer`.\n",
    "\n",
    "* This approach allows us to reverse the array in-place without using additional data structures. \n",
    "\n",
    "* __Time Complexity:__ The time complexity of the code is O(n), where n is the length of the input array. <br> The while loop iterates through half of the array (up to the midpoint), and the operations inside the loop are constant time. Therefore, the time complexity is linear with respect to the size of the array.\n",
    "\n",
    "* __Space Complexity:__ The space complexity of the code is O(1), constant space. <br> The algorithm uses a constant amount of extra space regardless of the size of the input array. It only uses a few variables (left_pointer, right_pointer) to keep track of indices, and the space used does not depend on the size of the input array.\n",
    "\n",
    "# ---------------------------------------------------------------------------------------------------------------"
   ]
  },
  {
   "cell_type": "markdown",
   "id": "56a37854",
   "metadata": {},
   "source": [
    "### Ques 4: Given an array of integers, find the maximum element in an array. <br><br> `arr = [10, 5, 20, 8, 15]` <br><br> `Output = 20`"
   ]
  },
  {
   "cell_type": "markdown",
   "id": "99f19c2c",
   "metadata": {},
   "source": [
    "#### Code: "
   ]
  },
  {
   "cell_type": "code",
   "execution_count": 6,
   "id": "8850c4a1",
   "metadata": {},
   "outputs": [
    {
     "name": "stdout",
     "output_type": "stream",
     "text": [
      "20\n"
     ]
    }
   ],
   "source": [
    "# Function Definition\n",
    "def maximumElement(arr):\n",
    "    # Initialize the maximum element with the first element of the array\n",
    "    maxElement = arr[0]\n",
    "    \n",
    "    # Iterate through the array starting from the second element\n",
    "    for i in range(1,len(arr)):\n",
    "        \n",
    "        # Update maxElement if the current element is greater\n",
    "        if arr[i] > maxElement:\n",
    "            maxElement = arr[i]\n",
    "            \n",
    "    # maxElement now contains the maximum element in the array\n",
    "    return maxElement\n",
    "\n",
    "# Driver Code\n",
    "arr_4 = [10, 5, 20, 8, 15]\n",
    "\n",
    "# Function calling & output\n",
    "result = maximumElement(arr_4)\n",
    "print(result)"
   ]
  },
  {
   "cell_type": "markdown",
   "id": "76b536e0",
   "metadata": {},
   "source": [
    "### Explanation:\n",
    "* This program defines a function `maximumElement` that takes an array as input and returns the maximum element in the array. The algorithm initializes the maximum element with the first element of the array and then iterates through the array to find and update the maximum element if a larger element is encountered.<br> __Initialization:__ <br> `maxElement` is initially set to the first element of the array (arr[0]). <br> __Loop through the Array:__ <br> The for loop iterates through the array starting from index 1. <br> For each element at index i, it checks if it is greater than the current `maxElement`. <br> If the current element is greater, it updates `maxElement` to the value of the current element. <br> __Return Maximum Element:__ <br> After the loop completes, the function returns the maximum element found in the array.\n",
    "\n",
    "* __Time Complexity:__ The time complexity of the code is O(n), where n is the length of the input array. <br> The loop iterates through each element of the array once. <br> The comparison and update operation inside the loop are constant time.\n",
    "\n",
    "* __Space Complexity:__ The space complexity is O(1), constant space. <br> The algorithm uses a constant amount of extra space (for the `maxElement` variable), regardless of the size of the input array.\n",
    "# ---------------------------------------------------------------------------------------------------------------"
   ]
  },
  {
   "cell_type": "markdown",
   "id": "60c3344a",
   "metadata": {},
   "source": [
    "### Ques 5: Given a sorted array, remove the duplicate element without using any extra data structure. <br><br> `arr = [1, 1, 2, 2, 2, 3, 3, 4, 4, 4, 5, 5]` <br><br> `Output = [1, 2, 3, 4, 5]`"
   ]
  },
  {
   "cell_type": "markdown",
   "id": "65cf1ffb",
   "metadata": {},
   "source": [
    "#### Code: "
   ]
  },
  {
   "cell_type": "code",
   "execution_count": 7,
   "id": "fbfc17a5",
   "metadata": {},
   "outputs": [
    {
     "name": "stdout",
     "output_type": "stream",
     "text": [
      "[1, 2, 3, 4, 5]\n"
     ]
    }
   ],
   "source": [
    "# Function Definition\n",
    "def duplicatesRemove(arr):\n",
    "    # Initialize a variable named pointer to keep track of the current index\n",
    "    pointer = 1\n",
    "    \n",
    "    # Iterate through the array starting from the second element since the very first element of the array is unique\n",
    "    for i in range(1,len(arr)):\n",
    "        \n",
    "        # The condition checks whether the current element is different from the previous one\n",
    "        if arr[i] != arr[i-1]:\n",
    "            \n",
    "            # In case condtion is True, update the array at the current index and move the current index (pointer) forward\n",
    "            arr[pointer] = arr[i]\n",
    "            pointer += 1\n",
    "            \n",
    "    # Resize the array to the size of the last value of the pointer\n",
    "    arr = arr[:pointer]\n",
    "    \n",
    "    # The modified array now containing unique elements is returned\n",
    "    return arr\n",
    "    \n",
    "# Driver Code\n",
    "arr_5 = [1, 1, 2, 2, 2, 3, 3, 4, 4, 4, 5, 5]\n",
    "\n",
    "# Function calling & output\n",
    "result = duplicatesRemove(arr_5)\n",
    "print(result)"
   ]
  },
  {
   "cell_type": "markdown",
   "id": "d0b62bf9",
   "metadata": {},
   "source": [
    "### Explanation:\n",
    "* This program removes duplicate elements from a sorted array without using any extra data structure. A function `duplicatesRemove` is defined that takes a sorted array as input and removes duplicate elements in-place. It uses a `pointer` variable to keep track of the position where unique elements are being stored. The final array is then resized to remove the duplicates.\n",
    "* The logic for each step is simple to understand as stated below: <br> __Pointer Initialization:__ <br> pointer is initialized to 1 since the first element of the array is considered unique. <br> __Loop through the Array:__ <br> The for loop starts from index 1. <br> For each element at index i, it checks if it is different from the previous element (arr[i-1]). <br> If the current element is different, it is considered a unique element, and it is placed at the position of the pointer. The pointer is then incremented. <br> __Resize the Array:__ <br> After the loop completes, the array is resized to keep only the unique elements. It is done by creating a new array that includes only the elements up to the pointer. <br> __Return the Result:__ <br> The function returns the modified array containing unique elements.\n",
    "\n",
    "* __Time Complexity:__ The time complexity is O(n), where n is the length of the input array. <br> The loop iterates through each element of the array once. The array resizing operation is done once after the loop completes, but the resizing itself is O(n) in the worst case. However, this operation is performed only once, and the overall time complexity remains O(n).\n",
    "\n",
    "* __Space Complexity:__ The space complexity is O(1), constant space. <br> The algorithm uses a constant amount of extra space (for the pointer variable), regardless of the size of the input array. The array resizing is done in-place.\n",
    "# ---------------------------------------------------------------------------------------------------------------"
   ]
  },
  {
   "cell_type": "markdown",
   "id": "d553f7be",
   "metadata": {},
   "source": [
    "# ------------------------------------- END OF ASSIGNMENT -------------------------------------"
   ]
  }
 ],
 "metadata": {
  "kernelspec": {
   "display_name": "Python 3 (ipykernel)",
   "language": "python",
   "name": "python3"
  },
  "language_info": {
   "codemirror_mode": {
    "name": "ipython",
    "version": 3
   },
   "file_extension": ".py",
   "mimetype": "text/x-python",
   "name": "python",
   "nbconvert_exporter": "python",
   "pygments_lexer": "ipython3",
   "version": "3.10.9"
  }
 },
 "nbformat": 4,
 "nbformat_minor": 5
}
